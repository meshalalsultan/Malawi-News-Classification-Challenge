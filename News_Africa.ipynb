{
  "nbformat": 4,
  "nbformat_minor": 0,
  "metadata": {
    "colab": {
      "name": "News Africa.ipynb",
      "provenance": []
    },
    "kernelspec": {
      "name": "python3",
      "display_name": "Python 3"
    },
    "language_info": {
      "name": "python"
    },
    "accelerator": "GPU"
  },
  "cells": [
    {
      "cell_type": "code",
      "metadata": {
        "id": "_qMNmThAOTxv"
      },
      "source": [
        "import pandas as pd\n",
        "import keras\n",
        "import numpy as np\n",
        "import tensorflow as tf\n",
        "import matplotlib.pyplot as plt\n",
        "from sklearn.model_selection import train_test_split\n",
        "import re\n",
        "from keras.models import  load_model\n",
        "#from keras.layers import LSTM , Dense , Embedding , Dropout\n",
        "from tensorflow.keras.preprocessing.text import Tokenizer\n",
        "from tensorflow.keras.preprocessing.sequence import pad_sequences\n",
        "from tensorflow.keras.layers import Conv2D, Flatten, Dense , LSTM ,Embedding , Dropout,SpatialDropout1D\n",
        "from tensorflow.keras import Sequential \n",
        "from tensorflow.keras import layers\n",
        "from tensorflow.keras.callbacks import EarlyStopping"
      ],
      "execution_count": 1,
      "outputs": []
    },
    {
      "cell_type": "code",
      "metadata": {
        "id": "WIHGDFfYOmM0"
      },
      "source": [
        "df = pd.read_csv('Train.csv')"
      ],
      "execution_count": 2,
      "outputs": []
    },
    {
      "cell_type": "code",
      "metadata": {
        "colab": {
          "base_uri": "https://localhost:8080/",
          "height": 204
        },
        "id": "GyPZ4lcBOtU0",
        "outputId": "4452fc6d-946f-40c1-cf5d-34312ce2f559"
      },
      "source": [
        "df.head()"
      ],
      "execution_count": 3,
      "outputs": [
        {
          "output_type": "execute_result",
          "data": {
            "text/html": [
              "<div>\n",
              "<style scoped>\n",
              "    .dataframe tbody tr th:only-of-type {\n",
              "        vertical-align: middle;\n",
              "    }\n",
              "\n",
              "    .dataframe tbody tr th {\n",
              "        vertical-align: top;\n",
              "    }\n",
              "\n",
              "    .dataframe thead th {\n",
              "        text-align: right;\n",
              "    }\n",
              "</style>\n",
              "<table border=\"1\" class=\"dataframe\">\n",
              "  <thead>\n",
              "    <tr style=\"text-align: right;\">\n",
              "      <th></th>\n",
              "      <th>ID</th>\n",
              "      <th>Text</th>\n",
              "      <th>Label</th>\n",
              "    </tr>\n",
              "  </thead>\n",
              "  <tbody>\n",
              "    <tr>\n",
              "      <th>0</th>\n",
              "      <td>ID_AASHwXxg</td>\n",
              "      <td>Mwangonde: Khansala wachinyamata Akamati achi...</td>\n",
              "      <td>POLITICS</td>\n",
              "    </tr>\n",
              "    <tr>\n",
              "      <th>1</th>\n",
              "      <td>ID_AGoFySzn</td>\n",
              "      <td>MCP siidakhutire ndi kalembera Chipani cha Ma...</td>\n",
              "      <td>POLITICS</td>\n",
              "    </tr>\n",
              "    <tr>\n",
              "      <th>2</th>\n",
              "      <td>ID_AGrrkBGP</td>\n",
              "      <td>Bungwe la MANEPO Lapempha Boma Liganizire Anth...</td>\n",
              "      <td>HEALTH</td>\n",
              "    </tr>\n",
              "    <tr>\n",
              "      <th>3</th>\n",
              "      <td>ID_AIJeigeG</td>\n",
              "      <td>Ndale zogawanitsa miyambo zanyanya Si zachile...</td>\n",
              "      <td>POLITICS</td>\n",
              "    </tr>\n",
              "    <tr>\n",
              "      <th>4</th>\n",
              "      <td>ID_APMprMbV</td>\n",
              "      <td>Nanga wapolisi ataphofomoka? Masiku ano sichi...</td>\n",
              "      <td>LAW/ORDER</td>\n",
              "    </tr>\n",
              "  </tbody>\n",
              "</table>\n",
              "</div>"
            ],
            "text/plain": [
              "            ID                                               Text      Label\n",
              "0  ID_AASHwXxg   Mwangonde: Khansala wachinyamata Akamati achi...   POLITICS\n",
              "1  ID_AGoFySzn   MCP siidakhutire ndi kalembera Chipani cha Ma...   POLITICS\n",
              "2  ID_AGrrkBGP  Bungwe la MANEPO Lapempha Boma Liganizire Anth...     HEALTH\n",
              "3  ID_AIJeigeG   Ndale zogawanitsa miyambo zanyanya Si zachile...   POLITICS\n",
              "4  ID_APMprMbV   Nanga wapolisi ataphofomoka? Masiku ano sichi...  LAW/ORDER"
            ]
          },
          "metadata": {
            "tags": []
          },
          "execution_count": 3
        }
      ]
    },
    {
      "cell_type": "code",
      "metadata": {
        "colab": {
          "base_uri": "https://localhost:8080/"
        },
        "id": "EsoTMoJ1OwlC",
        "outputId": "3fc08721-bfa4-4fbd-fcf3-34a5355ca539"
      },
      "source": [
        "df.isna().sum()"
      ],
      "execution_count": 4,
      "outputs": [
        {
          "output_type": "execute_result",
          "data": {
            "text/plain": [
              "ID       0\n",
              "Text     0\n",
              "Label    0\n",
              "dtype: int64"
            ]
          },
          "metadata": {
            "tags": []
          },
          "execution_count": 4
        }
      ]
    },
    {
      "cell_type": "code",
      "metadata": {
        "colab": {
          "base_uri": "https://localhost:8080/"
        },
        "id": "hhEy4KnfO0sZ",
        "outputId": "948a73cb-e8f4-443d-f33d-daccd458ef62"
      },
      "source": [
        "df['Text'].str.len()"
      ],
      "execution_count": 5,
      "outputs": [
        {
          "output_type": "execute_result",
          "data": {
            "text/plain": [
              "0       2627\n",
              "1       2720\n",
              "2        940\n",
              "3       3575\n",
              "4        372\n",
              "        ... \n",
              "1431    1326\n",
              "1432    3949\n",
              "1433    1616\n",
              "1434    2632\n",
              "1435    4585\n",
              "Name: Text, Length: 1436, dtype: int64"
            ]
          },
          "metadata": {
            "tags": []
          },
          "execution_count": 5
        }
      ]
    },
    {
      "cell_type": "code",
      "metadata": {
        "colab": {
          "base_uri": "https://localhost:8080/",
          "height": 282
        },
        "id": "wOtQ1dz1O4tp",
        "outputId": "ac3f6163-bd81-4534-8103-5ccac324620a"
      },
      "source": [
        "df['Text'].str.len().plot(kind='hist')"
      ],
      "execution_count": 6,
      "outputs": [
        {
          "output_type": "execute_result",
          "data": {
            "text/plain": [
              "<matplotlib.axes._subplots.AxesSubplot at 0x7f62282c5590>"
            ]
          },
          "metadata": {
            "tags": []
          },
          "execution_count": 6
        },
        {
          "output_type": "display_data",
          "data": {
            "image/png": "[encoded data removed]",
            "text/plain": [
              "<Figure size 432x288 with 1 Axes>"
            ]
          },
          "metadata": {
            "tags": [],
            "needs_background": "light"
          }
        }
      ]
    },
    {
      "cell_type": "code",
      "metadata": {
        "colab": {
          "base_uri": "https://localhost:8080/"
        },
        "id": "lfZGq_amO83J",
        "outputId": "ff53da16-70ff-4e78-de44-9e598e213659"
      },
      "source": [
        "df['Label'].value_counts()"
      ],
      "execution_count": 7,
      "outputs": [
        {
          "output_type": "execute_result",
          "data": {
            "text/plain": [
              "POLITICS                279\n",
              "SOCIAL                  152\n",
              "RELIGION                147\n",
              "LAW/ORDER               136\n",
              "SOCIAL ISSUES           134\n",
              "HEALTH                  127\n",
              "ECONOMY                  86\n",
              "FARMING                  78\n",
              "SPORTS                   49\n",
              "EDUCATION                43\n",
              "RELATIONSHIPS            39\n",
              "WILDLIFE/ENVIRONMENT     36\n",
              "OPINION/ESSAY            26\n",
              "LOCALCHIEFS              25\n",
              "CULTURE                  23\n",
              "WITCHCRAFT               16\n",
              "MUSIC                    15\n",
              "TRANSPORT                11\n",
              "ARTS AND CRAFTS           7\n",
              "FLOODING                  7\n",
              "Name: Label, dtype: int64"
            ]
          },
          "metadata": {
            "tags": []
          },
          "execution_count": 7
        }
      ]
    },
    {
      "cell_type": "code",
      "metadata": {
        "colab": {
          "base_uri": "https://localhost:8080/",
          "height": 396
        },
        "id": "kkR4c9H6PBaZ",
        "outputId": "15f6389e-f841-4202-b407-a109ab9dbb5f"
      },
      "source": [
        "df['Label'].value_counts().plot(kind='bar')"
      ],
      "execution_count": 8,
      "outputs": [
        {
          "output_type": "execute_result",
          "data": {
            "text/plain": [
              "<matplotlib.axes._subplots.AxesSubplot at 0x7f62281d0250>"
            ]
          },
          "metadata": {
            "tags": []
          },
          "execution_count": 8
        },
        {
          "output_type": "display_data",
          "data": {
            "image/png": "[encoded data removed]",
            "text/plain": [
              "<Figure size 432x288 with 1 Axes>"
            ]
          },
          "metadata": {
            "tags": [],
            "needs_background": "light"
          }
        }
      ]
    },
    {
      "cell_type": "code",
      "metadata": {
        "id": "nSXnQUTsSCcW"
      },
      "source": [
        "MAX_SEQUENCE_LENGTH = 4000\n",
        "MAX_NB_WORDS = 5000"
      ],
      "execution_count": 9,
      "outputs": []
    },
    {
      "cell_type": "code",
      "metadata": {
        "id": "xFFsJEUAPEso"
      },
      "source": [
        "tokenizer = Tokenizer(num_words=MAX_NB_WORDS , split=\" \")\n",
        "tokenizer.fit_on_texts(df['Text'].values)"
      ],
      "execution_count": 10,
      "outputs": []
    },
    {
      "cell_type": "code",
      "metadata": {
        "colab": {
          "base_uri": "https://localhost:8080/"
        },
        "id": "3BJraPYTPI-U",
        "outputId": "9307196c-3acf-4835-f700-8f91c2c211f2"
      },
      "source": [
        "X = tokenizer.texts_to_sequences(df['Text'].values)\n",
        "X= pad_sequences(X ,maxlen=MAX_SEQUENCE_LENGTH)\n",
        "X[:7]"
      ],
      "execution_count": 11,
      "outputs": [
        {
          "output_type": "execute_result",
          "data": {
            "text/plain": [
              "array([[  0,   0,   0, ...,  16,  68, 110],\n",
              "       [  0,   0,   0, ..., 511,  59,  93],\n",
              "       [  0,   0,   0, ...,   8,  16, 163],\n",
              "       ...,\n",
              "       [  0,   0,   0, ..., 198, 909, 412],\n",
              "       [  0,   0,   0, ..., 394,   5, 877],\n",
              "       [  0,   0,   0, ...,  27,  43,  14]], dtype=int32)"
            ]
          },
          "metadata": {
            "tags": []
          },
          "execution_count": 11
        }
      ]
    },
    {
      "cell_type": "code",
      "metadata": {
        "colab": {
          "base_uri": "https://localhost:8080/"
        },
        "id": "vUflxol3PLlb",
        "outputId": "6c8fe105-96f9-4f3c-c735-e658b69906d1"
      },
      "source": [
        "model = Sequential()\n",
        "model.add(Embedding(5000,265, input_length = X.shape[1]))\n",
        "model.add(SpatialDropout1D(0.2))\n",
        "model.add(LSTM(100, dropout=0.2, recurrent_dropout=0.2))\n",
        "model.add(Dense(20, activation='softmax'))\n",
        "model.compile(loss='categorical_crossentropy', optimizer='adam', metrics=['accuracy'])\n",
        "\n",
        "\n",
        "#model.compile(loss='categorical_crossentropy' , optimizer='adam' , metrics=['accuracy'])\n",
        "model.summary()"
      ],
      "execution_count": 12,
      "outputs": [
        {
          "output_type": "stream",
          "text": [
            "WARNING:tensorflow:Layer lstm will not use cuDNN kernel since it doesn't meet the cuDNN kernel criteria. It will use generic GPU kernel as fallback when running on GPU\n",
            "Model: \"sequential\"\n",
            "_________________________________________________________________\n",
            "Layer (type)                 Output Shape              Param #   \n",
            "=================================================================\n",
            "embedding (Embedding)        (None, 4000, 265)         1325000   \n",
            "_________________________________________________________________\n",
            "spatial_dropout1d (SpatialDr (None, 4000, 265)         0         \n",
            "_________________________________________________________________\n",
            "lstm (LSTM)                  (None, 100)               146400    \n",
            "_________________________________________________________________\n",
            "dense (Dense)                (None, 20)                2020      \n",
            "=================================================================\n",
            "Total params: 1,473,420\n",
            "Trainable params: 1,473,420\n",
            "Non-trainable params: 0\n",
            "_________________________________________________________________\n"
          ],
          "name": "stdout"
        }
      ]
    },
    {
      "cell_type": "code",
      "metadata": {
        "colab": {
          "base_uri": "https://localhost:8080/"
        },
        "id": "ZySmaxo7POwT",
        "outputId": "312e949c-6085-4bb5-e252-cc0fb397c8b0"
      },
      "source": [
        "y = pd.get_dummies(df['Label']).values\n",
        "[print(df['Label'][i] , y[i]) for i in range (0,40)]\n",
        "print('Shape of label tensor:', y.shape)"
      ],
      "execution_count": 13,
      "outputs": [
        {
          "output_type": "stream",
          "text": [
            "POLITICS [0 0 0 0 0 0 0 0 0 0 0 1 0 0 0 0 0 0 0 0]\n",
            "POLITICS [0 0 0 0 0 0 0 0 0 0 0 1 0 0 0 0 0 0 0 0]\n",
            "HEALTH [0 0 0 0 0 0 1 0 0 0 0 0 0 0 0 0 0 0 0 0]\n",
            "POLITICS [0 0 0 0 0 0 0 0 0 0 0 1 0 0 0 0 0 0 0 0]\n",
            "LAW/ORDER [0 0 0 0 0 0 0 1 0 0 0 0 0 0 0 0 0 0 0 0]\n",
            "LAW/ORDER [0 0 0 0 0 0 0 1 0 0 0 0 0 0 0 0 0 0 0 0]\n",
            "RELIGION [0 0 0 0 0 0 0 0 0 0 0 0 0 1 0 0 0 0 0 0]\n",
            "LAW/ORDER [0 0 0 0 0 0 0 1 0 0 0 0 0 0 0 0 0 0 0 0]\n",
            "FARMING [0 0 0 0 1 0 0 0 0 0 0 0 0 0 0 0 0 0 0 0]\n",
            "WILDLIFE/ENVIRONMENT [0 0 0 0 0 0 0 0 0 0 0 0 0 0 0 0 0 0 1 0]\n",
            "POLITICS [0 0 0 0 0 0 0 0 0 0 0 1 0 0 0 0 0 0 0 0]\n",
            "FARMING [0 0 0 0 1 0 0 0 0 0 0 0 0 0 0 0 0 0 0 0]\n",
            "RELIGION [0 0 0 0 0 0 0 0 0 0 0 0 0 1 0 0 0 0 0 0]\n",
            "WILDLIFE/ENVIRONMENT [0 0 0 0 0 0 0 0 0 0 0 0 0 0 0 0 0 0 1 0]\n",
            "SOCIAL ISSUES [0 0 0 0 0 0 0 0 0 0 0 0 0 0 0 1 0 0 0 0]\n",
            "LAW/ORDER [0 0 0 0 0 0 0 1 0 0 0 0 0 0 0 0 0 0 0 0]\n",
            "LAW/ORDER [0 0 0 0 0 0 0 1 0 0 0 0 0 0 0 0 0 0 0 0]\n",
            "FARMING [0 0 0 0 1 0 0 0 0 0 0 0 0 0 0 0 0 0 0 0]\n",
            "SOCIAL ISSUES [0 0 0 0 0 0 0 0 0 0 0 0 0 0 0 1 0 0 0 0]\n",
            "LAW/ORDER [0 0 0 0 0 0 0 1 0 0 0 0 0 0 0 0 0 0 0 0]\n",
            "POLITICS [0 0 0 0 0 0 0 0 0 0 0 1 0 0 0 0 0 0 0 0]\n",
            "POLITICS [0 0 0 0 0 0 0 0 0 0 0 1 0 0 0 0 0 0 0 0]\n",
            "POLITICS [0 0 0 0 0 0 0 0 0 0 0 1 0 0 0 0 0 0 0 0]\n",
            "RELIGION [0 0 0 0 0 0 0 0 0 0 0 0 0 1 0 0 0 0 0 0]\n",
            "SOCIAL ISSUES [0 0 0 0 0 0 0 0 0 0 0 0 0 0 0 1 0 0 0 0]\n",
            "RELIGION [0 0 0 0 0 0 0 0 0 0 0 0 0 1 0 0 0 0 0 0]\n",
            "SOCIAL [0 0 0 0 0 0 0 0 0 0 0 0 0 0 1 0 0 0 0 0]\n",
            "SOCIAL [0 0 0 0 0 0 0 0 0 0 0 0 0 0 1 0 0 0 0 0]\n",
            "RELIGION [0 0 0 0 0 0 0 0 0 0 0 0 0 1 0 0 0 0 0 0]\n",
            "POLITICS [0 0 0 0 0 0 0 0 0 0 0 1 0 0 0 0 0 0 0 0]\n",
            "SOCIAL ISSUES [0 0 0 0 0 0 0 0 0 0 0 0 0 0 0 1 0 0 0 0]\n",
            "HEALTH [0 0 0 0 0 0 1 0 0 0 0 0 0 0 0 0 0 0 0 0]\n",
            "SOCIAL [0 0 0 0 0 0 0 0 0 0 0 0 0 0 1 0 0 0 0 0]\n",
            "POLITICS [0 0 0 0 0 0 0 0 0 0 0 1 0 0 0 0 0 0 0 0]\n",
            "SOCIAL [0 0 0 0 0 0 0 0 0 0 0 0 0 0 1 0 0 0 0 0]\n",
            "OPINION/ESSAY [0 0 0 0 0 0 0 0 0 0 1 0 0 0 0 0 0 0 0 0]\n",
            "POLITICS [0 0 0 0 0 0 0 0 0 0 0 1 0 0 0 0 0 0 0 0]\n",
            "POLITICS [0 0 0 0 0 0 0 0 0 0 0 1 0 0 0 0 0 0 0 0]\n",
            "POLITICS [0 0 0 0 0 0 0 0 0 0 0 1 0 0 0 0 0 0 0 0]\n",
            "POLITICS [0 0 0 0 0 0 0 0 0 0 0 1 0 0 0 0 0 0 0 0]\n",
            "Shape of label tensor: (1436, 20)\n"
          ],
          "name": "stdout"
        }
      ]
    },
    {
      "cell_type": "code",
      "metadata": {
        "colab": {
          "base_uri": "https://localhost:8080/"
        },
        "id": "uFGHhqAFPTXr",
        "outputId": "d02c8784-1fdd-4691-cae2-969255382dea"
      },
      "source": [
        "X_train , X_test , y_train , y_test = train_test_split(X,y, test_size=0.3 , random_state=0)\n",
        "print(X_train.shape,y_train.shape)\n",
        "print(X_test.shape,y_test.shape)"
      ],
      "execution_count": 14,
      "outputs": [
        {
          "output_type": "stream",
          "text": [
            "(1005, 4000) (1005, 20)\n",
            "(431, 4000) (431, 20)\n"
          ],
          "name": "stdout"
        }
      ]
    },
    {
      "cell_type": "code",
      "metadata": {
        "colab": {
          "base_uri": "https://localhost:8080/"
        },
        "id": "m3RROOyOPhVx",
        "outputId": "076b452b-43e2-483d-9eeb-2166d6f60250"
      },
      "source": [
        "batch_size = 32\n",
        "epochs = 10\n",
        "history = model.fit(X_train , y_train , epochs = epochs , batch_size = batch_size , verbose = 2)"
      ],
      "execution_count": 16,
      "outputs": [
        {
          "output_type": "stream",
          "text": [
            "Epoch 1/10\n",
            "32/32 - 420s - loss: 2.6753 - accuracy: 0.2040\n",
            "Epoch 2/10\n",
            "32/32 - 421s - loss: 2.4987 - accuracy: 0.2060\n",
            "Epoch 3/10\n",
            "32/32 - 419s - loss: 2.1591 - accuracy: 0.3254\n",
            "Epoch 4/10\n",
            "32/32 - 419s - loss: 1.8114 - accuracy: 0.4726\n",
            "Epoch 5/10\n",
            "32/32 - 420s - loss: 1.3265 - accuracy: 0.6219\n",
            "Epoch 6/10\n",
            "32/32 - 418s - loss: 0.9368 - accuracy: 0.7682\n",
            "Epoch 7/10\n",
            "32/32 - 417s - loss: 0.6040 - accuracy: 0.8627\n",
            "Epoch 8/10\n",
            "32/32 - 418s - loss: 0.3872 - accuracy: 0.9194\n",
            "Epoch 9/10\n",
            "32/32 - 417s - loss: 0.2724 - accuracy: 0.9483\n",
            "Epoch 10/10\n",
            "32/32 - 416s - loss: 0.1933 - accuracy: 0.9701\n"
          ],
          "name": "stdout"
        }
      ]
    },
    {
      "cell_type": "code",
      "metadata": {
        "colab": {
          "base_uri": "https://localhost:8080/"
        },
        "id": "R-FTif09PmXI",
        "outputId": "442ff358-daa3-4bf1-8263-b111228f19c3"
      },
      "source": [
        "accr = model.evaluate(X_test,y_test)\n",
        "print('Test set\\n  Loss: {:0.3f}\\n  Accuracy: {:0.3f}'.format(accr[0],accr[1]))"
      ],
      "execution_count": 17,
      "outputs": [
        {
          "output_type": "stream",
          "text": [
            "14/14 [==============================] - 11s 769ms/step - loss: 2.8841 - accuracy: 0.3712\n",
            "Test set\n",
            "  Loss: 2.884\n",
            "  Accuracy: 0.371\n"
          ],
          "name": "stdout"
        }
      ]
    },
    {
      "cell_type": "code",
      "metadata": {
        "colab": {
          "base_uri": "https://localhost:8080/",
          "height": 496
        },
        "id": "3HBhLN0pPphw",
        "outputId": "84492342-1e15-4507-d9af-e987bf1ae32c"
      },
      "source": [
        "plt.title('Loss')\n",
        "plt.plot(history.history['loss'], label='train')\n",
        "plt.plot(history.history['val_loss'], label='test')\n",
        "plt.legend()\n",
        "plt.show();"
      ],
      "execution_count": 18,
      "outputs": [
        {
          "output_type": "error",
          "ename": "KeyError",
          "evalue": "ignored",
          "traceback": [
            "\u001b[0;31m---------------------------------------------------------------------------\u001b[0m",
            "\u001b[0;31mKeyError\u001b[0m                                  Traceback (most recent call last)",
            "\u001b[0;32m<ipython-input-18-32b70eeedc19>\u001b[0m in \u001b[0;36m<module>\u001b[0;34m()\u001b[0m\n\u001b[1;32m      1\u001b[0m \u001b[0mplt\u001b[0m\u001b[0;34m.\u001b[0m\u001b[0mtitle\u001b[0m\u001b[0;34m(\u001b[0m\u001b[0;34m'Loss'\u001b[0m\u001b[0;34m)\u001b[0m\u001b[0;34m\u001b[0m\u001b[0;34m\u001b[0m\u001b[0m\n\u001b[1;32m      2\u001b[0m \u001b[0mplt\u001b[0m\u001b[0;34m.\u001b[0m\u001b[0mplot\u001b[0m\u001b[0;34m(\u001b[0m\u001b[0mhistory\u001b[0m\u001b[0;34m.\u001b[0m\u001b[0mhistory\u001b[0m\u001b[0;34m[\u001b[0m\u001b[0;34m'loss'\u001b[0m\u001b[0;34m]\u001b[0m\u001b[0;34m,\u001b[0m \u001b[0mlabel\u001b[0m\u001b[0;34m=\u001b[0m\u001b[0;34m'train'\u001b[0m\u001b[0;34m)\u001b[0m\u001b[0;34m\u001b[0m\u001b[0;34m\u001b[0m\u001b[0m\n\u001b[0;32m----> 3\u001b[0;31m \u001b[0mplt\u001b[0m\u001b[0;34m.\u001b[0m\u001b[0mplot\u001b[0m\u001b[0;34m(\u001b[0m\u001b[0mhistory\u001b[0m\u001b[0;34m.\u001b[0m\u001b[0mhistory\u001b[0m\u001b[0;34m[\u001b[0m\u001b[0;34m'val_loss'\u001b[0m\u001b[0;34m]\u001b[0m\u001b[0;34m,\u001b[0m \u001b[0mlabel\u001b[0m\u001b[0;34m=\u001b[0m\u001b[0;34m'test'\u001b[0m\u001b[0;34m)\u001b[0m\u001b[0;34m\u001b[0m\u001b[0;34m\u001b[0m\u001b[0m\n\u001b[0m\u001b[1;32m      4\u001b[0m \u001b[0mplt\u001b[0m\u001b[0;34m.\u001b[0m\u001b[0mlegend\u001b[0m\u001b[0;34m(\u001b[0m\u001b[0;34m)\u001b[0m\u001b[0;34m\u001b[0m\u001b[0;34m\u001b[0m\u001b[0m\n\u001b[1;32m      5\u001b[0m \u001b[0mplt\u001b[0m\u001b[0;34m.\u001b[0m\u001b[0mshow\u001b[0m\u001b[0;34m(\u001b[0m\u001b[0;34m)\u001b[0m\u001b[0;34m;\u001b[0m\u001b[0;34m\u001b[0m\u001b[0;34m\u001b[0m\u001b[0m\n",
            "\u001b[0;31mKeyError\u001b[0m: 'val_loss'"
          ]
        },
        {
          "output_type": "display_data",
          "data": {
            "image/png": "[encoded data removed]",
            "text/plain": [
              "<Figure size 432x288 with 1 Axes>"
            ]
          },
          "metadata": {
            "tags": [],
            "needs_background": "light"
          }
        }
      ]
    },
    {
      "cell_type": "code",
      "metadata": {
        "id": "ahaSiIfIPwFJ",
        "outputId": "8d281951-174c-40e1-9ec5-fc3f9a1ab4b8",
        "colab": {
          "base_uri": "https://localhost:8080/",
          "height": 496
        }
      },
      "source": [
        "plt.title('Accuracy')\n",
        "plt.plot(history.history['acc'], label='train')\n",
        "plt.plot(history.history['val_acc'], label='test')\n",
        "plt.legend()\n",
        "plt.show();"
      ],
      "execution_count": 19,
      "outputs": [
        {
          "output_type": "error",
          "ename": "KeyError",
          "evalue": "ignored",
          "traceback": [
            "\u001b[0;31m---------------------------------------------------------------------------\u001b[0m",
            "\u001b[0;31mKeyError\u001b[0m                                  Traceback (most recent call last)",
            "\u001b[0;32m<ipython-input-19-652c9934bc45>\u001b[0m in \u001b[0;36m<module>\u001b[0;34m()\u001b[0m\n\u001b[1;32m      1\u001b[0m \u001b[0mplt\u001b[0m\u001b[0;34m.\u001b[0m\u001b[0mtitle\u001b[0m\u001b[0;34m(\u001b[0m\u001b[0;34m'Accuracy'\u001b[0m\u001b[0;34m)\u001b[0m\u001b[0;34m\u001b[0m\u001b[0;34m\u001b[0m\u001b[0m\n\u001b[0;32m----> 2\u001b[0;31m \u001b[0mplt\u001b[0m\u001b[0;34m.\u001b[0m\u001b[0mplot\u001b[0m\u001b[0;34m(\u001b[0m\u001b[0mhistory\u001b[0m\u001b[0;34m.\u001b[0m\u001b[0mhistory\u001b[0m\u001b[0;34m[\u001b[0m\u001b[0;34m'acc'\u001b[0m\u001b[0;34m]\u001b[0m\u001b[0;34m,\u001b[0m \u001b[0mlabel\u001b[0m\u001b[0;34m=\u001b[0m\u001b[0;34m'train'\u001b[0m\u001b[0;34m)\u001b[0m\u001b[0;34m\u001b[0m\u001b[0;34m\u001b[0m\u001b[0m\n\u001b[0m\u001b[1;32m      3\u001b[0m \u001b[0mplt\u001b[0m\u001b[0;34m.\u001b[0m\u001b[0mplot\u001b[0m\u001b[0;34m(\u001b[0m\u001b[0mhistory\u001b[0m\u001b[0;34m.\u001b[0m\u001b[0mhistory\u001b[0m\u001b[0;34m[\u001b[0m\u001b[0;34m'val_acc'\u001b[0m\u001b[0;34m]\u001b[0m\u001b[0;34m,\u001b[0m \u001b[0mlabel\u001b[0m\u001b[0;34m=\u001b[0m\u001b[0;34m'test'\u001b[0m\u001b[0;34m)\u001b[0m\u001b[0;34m\u001b[0m\u001b[0;34m\u001b[0m\u001b[0m\n\u001b[1;32m      4\u001b[0m \u001b[0mplt\u001b[0m\u001b[0;34m.\u001b[0m\u001b[0mlegend\u001b[0m\u001b[0;34m(\u001b[0m\u001b[0;34m)\u001b[0m\u001b[0;34m\u001b[0m\u001b[0;34m\u001b[0m\u001b[0m\n\u001b[1;32m      5\u001b[0m \u001b[0mplt\u001b[0m\u001b[0;34m.\u001b[0m\u001b[0mshow\u001b[0m\u001b[0;34m(\u001b[0m\u001b[0;34m)\u001b[0m\u001b[0;34m;\u001b[0m\u001b[0;34m\u001b[0m\u001b[0;34m\u001b[0m\u001b[0m\n",
            "\u001b[0;31mKeyError\u001b[0m: 'acc'"
          ]
        },
        {
          "output_type": "display_data",
          "data": {
            "image/png": "[encoded data removed]",
            "text/plain": [
              "<Figure size 432x288 with 1 Axes>"
            ]
          },
          "metadata": {
            "tags": [],
            "needs_background": "light"
          }
        }
      ]
    },
    {
      "cell_type": "code",
      "metadata": {
        "colab": {
          "base_uri": "https://localhost:8080/",
          "height": 204
        },
        "id": "Vyz1dUSLP2ll",
        "outputId": "6e394b02-ff0a-4cc4-a76c-3b5c2521d465"
      },
      "source": [
        "test_df = pd.read_csv('Test.csv')\n",
        "test_df.head()"
      ],
      "execution_count": 20,
      "outputs": [
        {
          "output_type": "execute_result",
          "data": {
            "text/html": [
              "<div>\n",
              "<style scoped>\n",
              "    .dataframe tbody tr th:only-of-type {\n",
              "        vertical-align: middle;\n",
              "    }\n",
              "\n",
              "    .dataframe tbody tr th {\n",
              "        vertical-align: top;\n",
              "    }\n",
              "\n",
              "    .dataframe thead th {\n",
              "        text-align: right;\n",
              "    }\n",
              "</style>\n",
              "<table border=\"1\" class=\"dataframe\">\n",
              "  <thead>\n",
              "    <tr style=\"text-align: right;\">\n",
              "      <th></th>\n",
              "      <th>ID</th>\n",
              "      <th>Text</th>\n",
              "    </tr>\n",
              "  </thead>\n",
              "  <tbody>\n",
              "    <tr>\n",
              "      <th>0</th>\n",
              "      <td>ID_ADHEtjTi</td>\n",
              "      <td>Abambo odzikhweza akuchuluka Kafukufuku wa ap...</td>\n",
              "    </tr>\n",
              "    <tr>\n",
              "      <th>1</th>\n",
              "      <td>ID_AHfJktdQ</td>\n",
              "      <td>Ambuye Ziyaye Ayamikira Aphunzitsi a Tilitonse...</td>\n",
              "    </tr>\n",
              "    <tr>\n",
              "      <th>2</th>\n",
              "      <td>ID_AUJIHpZr</td>\n",
              "      <td>Anatcheleza: Akundiopseza a gogo wanga Akundi...</td>\n",
              "    </tr>\n",
              "    <tr>\n",
              "      <th>3</th>\n",
              "      <td>ID_AUKYBbIM</td>\n",
              "      <td>Ulova wafika posauzana Adatenga digiri ya uph...</td>\n",
              "    </tr>\n",
              "    <tr>\n",
              "      <th>4</th>\n",
              "      <td>ID_AZnsVPEi</td>\n",
              "      <td>Dzombe kukoma, koma Kuyambira makedzana, pant...</td>\n",
              "    </tr>\n",
              "  </tbody>\n",
              "</table>\n",
              "</div>"
            ],
            "text/plain": [
              "            ID                                               Text\n",
              "0  ID_ADHEtjTi   Abambo odzikhweza akuchuluka Kafukufuku wa ap...\n",
              "1  ID_AHfJktdQ  Ambuye Ziyaye Ayamikira Aphunzitsi a Tilitonse...\n",
              "2  ID_AUJIHpZr   Anatcheleza: Akundiopseza a gogo wanga Akundi...\n",
              "3  ID_AUKYBbIM   Ulova wafika posauzana Adatenga digiri ya uph...\n",
              "4  ID_AZnsVPEi   Dzombe kukoma, koma Kuyambira makedzana, pant..."
            ]
          },
          "metadata": {
            "tags": []
          },
          "execution_count": 20
        }
      ]
    },
    {
      "cell_type": "code",
      "metadata": {
        "colab": {
          "base_uri": "https://localhost:8080/",
          "height": 188
        },
        "id": "Y_r7dAq_UlyE",
        "outputId": "a736f0a9-2338-45ac-bd90-681b4446526f"
      },
      "source": [
        "test_df['Text'][12]"
      ],
      "execution_count": 21,
      "outputs": [
        {
          "output_type": "execute_result",
          "data": {
            "application/vnd.google.colaboratory.intrinsic+json": {
              "type": "string"
            },
            "text/plain": [
              "'Bungwe la Senior Citizen Lipempha Anthu Athandize Okalamba Bungwe lolimbikitsa kufunika kokumbukira anthu achikulire ku parish ya Limbe Cathedral mu arkdayosizi ya Blantyre la Senior Citizen lati ndi udindo wa mzika iliyonse kuthandiza anthu achikulire mdziko muno Bungweli lanena izi ku Limbe cathedral mu mzinda wa Blantyre pambuyo ya phwando lomwe bungweli linakonzela anthu okalamba aparishiyi Lachitatu pa 1 January 2020. \\nBambo Benito Masuwa omwe anatsogolera wa nsembe ya ukalistiya yothokoza Mulungu chifukwa cha moyo wa anthu achikulire opezeka mparishiyi, anayamikira achikulirewa pozisunga komanso kudzilesa ku zokhumba za moyo zomwe mwazina zawasunga ndi moyo mpaka lero. \\nEna mwa mamembala a bungwe la Senior Citizen pa tsikulo la phwandolo Munthu amene wakhala moyo wautali amasonyeza kuti wadutsa ndikupambana mzambiri zokoma za moyo uno, anatero bambo Masuwa. \\nBambo Masuwa anapitiliza kupempha achinyamata kuti atengerepo phunziro kuchokela kwa anthu achikulirewa posatengeka ndi zokoma za dziko lapansi. \\nIwo anapitiliza kupempha achikulirewa kuti azikonzekeretse ku imfa pozilumikizitsa moyo wawo ndi Yesu Khristu. \\nImfa sichinthu choopsa ngati munthu walumikizitsa moyo wake ndi Yesu Khristu, anawonjedzera motero bambo Masuwa. \\nMmawu ake wapampando wa bungweli a Macdonald Phoya anati bungweli linakonza phwandoli pofuna kusangalala limodzi ndi achikulirewa munyengo ino yachisangalalo chakubadwa kwa Yesu Khristu komanso chaka chatsopano. \\nAphoya anawonjedzera kunena kuti achikulirewa ndi amene akuziwa mozama chiyambi cha ma parishiwa choncho mkofunika kuwakumbukira mwa njira yapadera. \\nAnthu okalambawa nawonso akuyenela kukondwelera chisangalalochi choncho ndibwino kukhala nawo limodzi, anatero a Phoya. \\nPolankhulapo mmodzi mwa anthu achikulire omwe anatenga nawo gawo pa zochitikazi, a Richard Chingamba anathokoza Mulungu kamba ka mphatso ya moyo komanso bungwe la Senior Citizen kamba kowakonzera phwandoli. \\nNdikuthokoza Mulungu pondisunga mpaka tsiku lalero komanso achinyamata omwe anakonza chikonzelochi, anatero a Chingamba. \\nBungwe la Senior Citizen lomwe likupezeka ku parishi ya Limbe Cathedral lati lili ndichikonzelo choti bungweli lifikire ma parishi onse opezeka mu arkdayosizi ya Blantyre. \\n'"
            ]
          },
          "metadata": {
            "tags": []
          },
          "execution_count": 21
        }
      ]
    },
    {
      "cell_type": "code",
      "metadata": {
        "colab": {
          "base_uri": "https://localhost:8080/"
        },
        "id": "JMxYdN3yVT25",
        "outputId": "513866ab-3761-41e3-a8e4-d8b8b3daacbb"
      },
      "source": [
        "test_df.shape"
      ],
      "execution_count": 22,
      "outputs": [
        {
          "output_type": "execute_result",
          "data": {
            "text/plain": [
              "(620, 2)"
            ]
          },
          "metadata": {
            "tags": []
          },
          "execution_count": 22
        }
      ]
    },
    {
      "cell_type": "code",
      "metadata": {
        "colab": {
          "base_uri": "https://localhost:8080/"
        },
        "id": "5mBX7PFoPxei",
        "outputId": "a8daadc2-1428-47be-f352-e77b1b07899e"
      },
      "source": [
        "MAX_SEQUENCE_LENGTH = 4000\n",
        "MAX_NB_WORDS = 5000\n",
        "the_test = test_df\n",
        "seq = tokenizer.texts_to_sequences(the_test)\n",
        "padded = pad_sequences(seq, maxlen=MAX_SEQUENCE_LENGTH)\n",
        "pred = model.predict(padded)\n",
        "labels = ['SOCIAL ISSUES', 'EDUCATION', 'RELATIONSHIPS', 'ECONOMY', 'RELIGION', 'POLITICS', 'LAW/ORDER', 'SOCIAL', 'HEALTH', 'ARTS AND CRAFTS', 'FARMING', 'CULTURE', 'FLOODING', 'WITCHCRAFT', 'MUSIC', 'TRANSPORT', 'WILDLIFE/ENVIRONMENT', 'LOCALCHIEFS', 'SPORTS', 'OPINION/ESSAY']\n",
        "print(pred, labels[np.argmax(pred)])\n",
        "print(labels[np.argmax(pred)])\n",
        "print(np.argmax(pred))"
      ],
      "execution_count": 41,
      "outputs": [
        {
          "output_type": "stream",
          "text": [
            "[[0.0712003  0.08545531 0.01891415 0.0318421  0.01855378 0.08412299\n",
            "  0.01884997 0.00842394 0.04174705 0.14957215 0.08457801 0.00648998\n",
            "  0.10897271 0.01529928 0.00768398 0.00957724 0.03780849 0.05644218\n",
            "  0.04422241 0.10024395]\n",
            " [0.0712003  0.08545531 0.01891415 0.0318421  0.01855378 0.08412299\n",
            "  0.01884997 0.00842394 0.04174705 0.14957215 0.08457801 0.00648998\n",
            "  0.10897271 0.01529928 0.00768398 0.00957724 0.03780849 0.05644218\n",
            "  0.04422241 0.10024395]] ARTS AND CRAFTS\n",
            "ARTS AND CRAFTS\n",
            "9\n"
          ],
          "name": "stdout"
        }
      ]
    },
    {
      "cell_type": "code",
      "metadata": {
        "id": "AIL_ofRsUy7g",
        "outputId": "91a5df72-d3d3-4d18-8936-6d433dfaafb3",
        "colab": {
          "base_uri": "https://localhost:8080/"
        }
      },
      "source": [
        "pred.shape"
      ],
      "execution_count": 29,
      "outputs": [
        {
          "output_type": "execute_result",
          "data": {
            "text/plain": [
              "(2, 20)"
            ]
          },
          "metadata": {
            "tags": []
          },
          "execution_count": 29
        }
      ]
    },
    {
      "cell_type": "code",
      "metadata": {
        "id": "608pb3BGifg1",
        "outputId": "e78b8c1c-4372-46f7-8226-36d8e7b8919e",
        "colab": {
          "base_uri": "https://localhost:8080/"
        }
      },
      "source": [
        "pred"
      ],
      "execution_count": 30,
      "outputs": [
        {
          "output_type": "execute_result",
          "data": {
            "text/plain": [
              "array([[0.0712003 , 0.08545531, 0.01891415, 0.0318421 , 0.01855378,\n",
              "        0.08412299, 0.01884997, 0.00842394, 0.04174705, 0.14957215,\n",
              "        0.08457801, 0.00648998, 0.10897271, 0.01529928, 0.00768398,\n",
              "        0.00957724, 0.03780849, 0.05644218, 0.04422241, 0.10024395],\n",
              "       [0.0712003 , 0.08545531, 0.01891415, 0.0318421 , 0.01855378,\n",
              "        0.08412299, 0.01884997, 0.00842394, 0.04174705, 0.14957215,\n",
              "        0.08457801, 0.00648998, 0.10897271, 0.01529928, 0.00768398,\n",
              "        0.00957724, 0.03780849, 0.05644218, 0.04422241, 0.10024395]],\n",
              "      dtype=float32)"
            ]
          },
          "metadata": {
            "tags": []
          },
          "execution_count": 30
        }
      ]
    },
    {
      "cell_type": "code",
      "metadata": {
        "id": "RY-0utfOiiCU",
        "outputId": "9229acd0-990e-4301-c244-44d27228b3db",
        "colab": {
          "base_uri": "https://localhost:8080/",
          "height": 204
        }
      },
      "source": [
        "ss = pd.read_csv('/content/SampleSubmission.csv')\n",
        "ss.head()"
      ],
      "execution_count": 32,
      "outputs": [
        {
          "output_type": "execute_result",
          "data": {
            "text/html": [
              "<div>\n",
              "<style scoped>\n",
              "    .dataframe tbody tr th:only-of-type {\n",
              "        vertical-align: middle;\n",
              "    }\n",
              "\n",
              "    .dataframe tbody tr th {\n",
              "        vertical-align: top;\n",
              "    }\n",
              "\n",
              "    .dataframe thead th {\n",
              "        text-align: right;\n",
              "    }\n",
              "</style>\n",
              "<table border=\"1\" class=\"dataframe\">\n",
              "  <thead>\n",
              "    <tr style=\"text-align: right;\">\n",
              "      <th></th>\n",
              "      <th>ID</th>\n",
              "      <th>Label</th>\n",
              "    </tr>\n",
              "  </thead>\n",
              "  <tbody>\n",
              "    <tr>\n",
              "      <th>0</th>\n",
              "      <td>ID_sQaPRMWO</td>\n",
              "      <td>0</td>\n",
              "    </tr>\n",
              "    <tr>\n",
              "      <th>1</th>\n",
              "      <td>ID_TanclvfR</td>\n",
              "      <td>0</td>\n",
              "    </tr>\n",
              "    <tr>\n",
              "      <th>2</th>\n",
              "      <td>ID_CNbveyvk</td>\n",
              "      <td>0</td>\n",
              "    </tr>\n",
              "    <tr>\n",
              "      <th>3</th>\n",
              "      <td>ID_MclKMhyP</td>\n",
              "      <td>0</td>\n",
              "    </tr>\n",
              "    <tr>\n",
              "      <th>4</th>\n",
              "      <td>ID_rNrmXOGD</td>\n",
              "      <td>0</td>\n",
              "    </tr>\n",
              "  </tbody>\n",
              "</table>\n",
              "</div>"
            ],
            "text/plain": [
              "            ID  Label\n",
              "0  ID_sQaPRMWO      0\n",
              "1  ID_TanclvfR      0\n",
              "2  ID_CNbveyvk      0\n",
              "3  ID_MclKMhyP      0\n",
              "4  ID_rNrmXOGD      0"
            ]
          },
          "metadata": {
            "tags": []
          },
          "execution_count": 32
        }
      ]
    },
    {
      "cell_type": "code",
      "metadata": {
        "id": "bFNZR54v12qI",
        "outputId": "180ceea2-34ab-42ea-ebfd-bbb1b480c94b",
        "colab": {
          "base_uri": "https://localhost:8080/"
        }
      },
      "source": [
        "ss.shape"
      ],
      "execution_count": 33,
      "outputs": [
        {
          "output_type": "execute_result",
          "data": {
            "text/plain": [
              "(620, 2)"
            ]
          },
          "metadata": {
            "tags": []
          },
          "execution_count": 33
        }
      ]
    },
    {
      "cell_type": "code",
      "metadata": {
        "id": "Rec0BMyT2CNd",
        "outputId": "2d9d083d-f038-43ad-bd49-7dba2c91c4cb",
        "colab": {
          "base_uri": "https://localhost:8080/"
        }
      },
      "source": [
        "test_df.shape"
      ],
      "execution_count": 34,
      "outputs": [
        {
          "output_type": "execute_result",
          "data": {
            "text/plain": [
              "(620, 2)"
            ]
          },
          "metadata": {
            "tags": []
          },
          "execution_count": 34
        }
      ]
    },
    {
      "cell_type": "code",
      "metadata": {
        "id": "aBC5PQ782elL",
        "outputId": "b255a658-0c29-4da0-c417-be812f9d9b53",
        "colab": {
          "base_uri": "https://localhost:8080/"
        }
      },
      "source": [
        "pred.shape"
      ],
      "execution_count": 36,
      "outputs": [
        {
          "output_type": "execute_result",
          "data": {
            "text/plain": [
              "(2, 20)"
            ]
          },
          "metadata": {
            "tags": []
          },
          "execution_count": 36
        }
      ]
    },
    {
      "cell_type": "code",
      "metadata": {
        "id": "Y1Bq9UG92iTr"
      },
      "source": [
        "pd.DataFrame(pred).to_csv(\"predicted.csv\")"
      ],
      "execution_count": 37,
      "outputs": []
    },
    {
      "cell_type": "code",
      "metadata": {
        "id": "Sic0Q9Am4BrX",
        "outputId": "7384e546-92d0-4669-deeb-23be6af694d1",
        "colab": {
          "base_uri": "https://localhost:8080/",
          "height": 148
        }
      },
      "source": [
        "predicted = pd.read_csv('predicted.csv')\n",
        "predicted.head()"
      ],
      "execution_count": 38,
      "outputs": [
        {
          "output_type": "execute_result",
          "data": {
            "text/html": [
              "<div>\n",
              "<style scoped>\n",
              "    .dataframe tbody tr th:only-of-type {\n",
              "        vertical-align: middle;\n",
              "    }\n",
              "\n",
              "    .dataframe tbody tr th {\n",
              "        vertical-align: top;\n",
              "    }\n",
              "\n",
              "    .dataframe thead th {\n",
              "        text-align: right;\n",
              "    }\n",
              "</style>\n",
              "<table border=\"1\" class=\"dataframe\">\n",
              "  <thead>\n",
              "    <tr style=\"text-align: right;\">\n",
              "      <th></th>\n",
              "      <th>Unnamed: 0</th>\n",
              "      <th>0</th>\n",
              "      <th>1</th>\n",
              "      <th>2</th>\n",
              "      <th>3</th>\n",
              "      <th>4</th>\n",
              "      <th>5</th>\n",
              "      <th>6</th>\n",
              "      <th>7</th>\n",
              "      <th>8</th>\n",
              "      <th>9</th>\n",
              "      <th>10</th>\n",
              "      <th>11</th>\n",
              "      <th>12</th>\n",
              "      <th>13</th>\n",
              "      <th>14</th>\n",
              "      <th>15</th>\n",
              "      <th>16</th>\n",
              "      <th>17</th>\n",
              "      <th>18</th>\n",
              "      <th>19</th>\n",
              "    </tr>\n",
              "  </thead>\n",
              "  <tbody>\n",
              "    <tr>\n",
              "      <th>0</th>\n",
              "      <td>0</td>\n",
              "      <td>0.0712</td>\n",
              "      <td>0.085455</td>\n",
              "      <td>0.018914</td>\n",
              "      <td>0.031842</td>\n",
              "      <td>0.018554</td>\n",
              "      <td>0.084123</td>\n",
              "      <td>0.01885</td>\n",
              "      <td>0.008424</td>\n",
              "      <td>0.041747</td>\n",
              "      <td>0.149572</td>\n",
              "      <td>0.084578</td>\n",
              "      <td>0.00649</td>\n",
              "      <td>0.108973</td>\n",
              "      <td>0.015299</td>\n",
              "      <td>0.007684</td>\n",
              "      <td>0.009577</td>\n",
              "      <td>0.037808</td>\n",
              "      <td>0.056442</td>\n",
              "      <td>0.044222</td>\n",
              "      <td>0.100244</td>\n",
              "    </tr>\n",
              "    <tr>\n",
              "      <th>1</th>\n",
              "      <td>1</td>\n",
              "      <td>0.0712</td>\n",
              "      <td>0.085455</td>\n",
              "      <td>0.018914</td>\n",
              "      <td>0.031842</td>\n",
              "      <td>0.018554</td>\n",
              "      <td>0.084123</td>\n",
              "      <td>0.01885</td>\n",
              "      <td>0.008424</td>\n",
              "      <td>0.041747</td>\n",
              "      <td>0.149572</td>\n",
              "      <td>0.084578</td>\n",
              "      <td>0.00649</td>\n",
              "      <td>0.108973</td>\n",
              "      <td>0.015299</td>\n",
              "      <td>0.007684</td>\n",
              "      <td>0.009577</td>\n",
              "      <td>0.037808</td>\n",
              "      <td>0.056442</td>\n",
              "      <td>0.044222</td>\n",
              "      <td>0.100244</td>\n",
              "    </tr>\n",
              "  </tbody>\n",
              "</table>\n",
              "</div>"
            ],
            "text/plain": [
              "   Unnamed: 0       0         1  ...        17        18        19\n",
              "0           0  0.0712  0.085455  ...  0.056442  0.044222  0.100244\n",
              "1           1  0.0712  0.085455  ...  0.056442  0.044222  0.100244\n",
              "\n",
              "[2 rows x 21 columns]"
            ]
          },
          "metadata": {
            "tags": []
          },
          "execution_count": 38
        }
      ]
    },
    {
      "cell_type": "code",
      "metadata": {
        "id": "44BCJqX34Kvg",
        "outputId": "47cbf044-bf34-4f54-fce9-f4417d7b60c8",
        "colab": {
          "base_uri": "https://localhost:8080/",
          "height": 266
        }
      },
      "source": [
        "label = []\n",
        "encode = []\n",
        "for i in test_df:\n",
        "  seq = tokenizer.texts_to_sequences(i)\n",
        "  padded = pad_sequences(seq, maxlen=MAX_SEQUENCE_LENGTH)\n",
        "  pred = model.predict(padded)\n",
        "  labels = ['SOCIAL ISSUES', 'EDUCATION', 'RELATIONSHIPS', 'ECONOMY', 'RELIGION', 'POLITICS', 'LAW/ORDER', 'SOCIAL', 'HEALTH', 'ARTS AND CRAFTS', 'FARMING', 'CULTURE', 'FLOODING', 'WITCHCRAFT', 'MUSIC', 'TRANSPORT', 'WILDLIFE/ENVIRONMENT', 'LOCALCHIEFS', 'SPORTS', 'OPINION/ESSAY']\n",
        "  l = labels[np.argmax(pred)]\n",
        "  label.append(l)\n",
        "  a= np.argmax(pred)\n",
        "  encode.append(a)"
      ],
      "execution_count": 59,
      "outputs": [
        {
          "output_type": "error",
          "ename": "IndexError",
          "evalue": "ignored",
          "traceback": [
            "\u001b[0;31m---------------------------------------------------------------------------\u001b[0m",
            "\u001b[0;31mIndexError\u001b[0m                                Traceback (most recent call last)",
            "\u001b[0;32m<ipython-input-59-967f6067dae8>\u001b[0m in \u001b[0;36m<module>\u001b[0;34m()\u001b[0m\n\u001b[1;32m      6\u001b[0m   \u001b[0mpred\u001b[0m \u001b[0;34m=\u001b[0m \u001b[0mmodel\u001b[0m\u001b[0;34m.\u001b[0m\u001b[0mpredict\u001b[0m\u001b[0;34m(\u001b[0m\u001b[0mpadded\u001b[0m\u001b[0;34m)\u001b[0m\u001b[0;34m\u001b[0m\u001b[0;34m\u001b[0m\u001b[0m\n\u001b[1;32m      7\u001b[0m   \u001b[0mlabels\u001b[0m \u001b[0;34m=\u001b[0m \u001b[0;34m[\u001b[0m\u001b[0;34m'SOCIAL ISSUES'\u001b[0m\u001b[0;34m,\u001b[0m \u001b[0;34m'EDUCATION'\u001b[0m\u001b[0;34m,\u001b[0m \u001b[0;34m'RELATIONSHIPS'\u001b[0m\u001b[0;34m,\u001b[0m \u001b[0;34m'ECONOMY'\u001b[0m\u001b[0;34m,\u001b[0m \u001b[0;34m'RELIGION'\u001b[0m\u001b[0;34m,\u001b[0m \u001b[0;34m'POLITICS'\u001b[0m\u001b[0;34m,\u001b[0m \u001b[0;34m'LAW/ORDER'\u001b[0m\u001b[0;34m,\u001b[0m \u001b[0;34m'SOCIAL'\u001b[0m\u001b[0;34m,\u001b[0m \u001b[0;34m'HEALTH'\u001b[0m\u001b[0;34m,\u001b[0m \u001b[0;34m'ARTS AND CRAFTS'\u001b[0m\u001b[0;34m,\u001b[0m \u001b[0;34m'FARMING'\u001b[0m\u001b[0;34m,\u001b[0m \u001b[0;34m'CULTURE'\u001b[0m\u001b[0;34m,\u001b[0m \u001b[0;34m'FLOODING'\u001b[0m\u001b[0;34m,\u001b[0m \u001b[0;34m'WITCHCRAFT'\u001b[0m\u001b[0;34m,\u001b[0m \u001b[0;34m'MUSIC'\u001b[0m\u001b[0;34m,\u001b[0m \u001b[0;34m'TRANSPORT'\u001b[0m\u001b[0;34m,\u001b[0m \u001b[0;34m'WILDLIFE/ENVIRONMENT'\u001b[0m\u001b[0;34m,\u001b[0m \u001b[0;34m'LOCALCHIEFS'\u001b[0m\u001b[0;34m,\u001b[0m \u001b[0;34m'SPORTS'\u001b[0m\u001b[0;34m,\u001b[0m \u001b[0;34m'OPINION/ESSAY'\u001b[0m\u001b[0;34m]\u001b[0m\u001b[0;34m\u001b[0m\u001b[0;34m\u001b[0m\u001b[0m\n\u001b[0;32m----> 8\u001b[0;31m   \u001b[0ml\u001b[0m \u001b[0;34m=\u001b[0m \u001b[0mlabels\u001b[0m\u001b[0;34m[\u001b[0m\u001b[0mnp\u001b[0m\u001b[0;34m.\u001b[0m\u001b[0margmax\u001b[0m\u001b[0;34m(\u001b[0m\u001b[0mpred\u001b[0m\u001b[0;34m)\u001b[0m\u001b[0;34m]\u001b[0m\u001b[0;34m\u001b[0m\u001b[0;34m\u001b[0m\u001b[0m\n\u001b[0m\u001b[1;32m      9\u001b[0m   \u001b[0mlabel\u001b[0m\u001b[0;34m.\u001b[0m\u001b[0mappend\u001b[0m\u001b[0;34m(\u001b[0m\u001b[0ml\u001b[0m\u001b[0;34m)\u001b[0m\u001b[0;34m\u001b[0m\u001b[0;34m\u001b[0m\u001b[0m\n\u001b[1;32m     10\u001b[0m   \u001b[0ma\u001b[0m\u001b[0;34m=\u001b[0m \u001b[0mnp\u001b[0m\u001b[0;34m.\u001b[0m\u001b[0margmax\u001b[0m\u001b[0;34m(\u001b[0m\u001b[0mpred\u001b[0m\u001b[0;34m)\u001b[0m\u001b[0;34m\u001b[0m\u001b[0;34m\u001b[0m\u001b[0m\n",
            "\u001b[0;31mIndexError\u001b[0m: list index out of range"
          ]
        }
      ]
    },
    {
      "cell_type": "code",
      "metadata": {
        "id": "474Ztgdu6UNr",
        "outputId": "f35cf9bd-181a-46cd-db06-6149a93aa1a5",
        "colab": {
          "base_uri": "https://localhost:8080/"
        }
      },
      "source": [
        "label"
      ],
      "execution_count": 58,
      "outputs": [
        {
          "output_type": "execute_result",
          "data": {
            "text/plain": [
              "['ARTS AND CRAFTS', 'EDUCATION']"
            ]
          },
          "metadata": {
            "tags": []
          },
          "execution_count": 58
        }
      ]
    },
    {
      "cell_type": "code",
      "metadata": {
        "id": "LKdKHT4i7rB9",
        "outputId": "f51d362e-611c-46d3-e487-69caa96131e9",
        "colab": {
          "base_uri": "https://localhost:8080/"
        }
      },
      "source": [
        "encode"
      ],
      "execution_count": 55,
      "outputs": [
        {
          "output_type": "execute_result",
          "data": {
            "text/plain": [
              "[9, 1]"
            ]
          },
          "metadata": {
            "tags": []
          },
          "execution_count": 55
        }
      ]
    },
    {
      "cell_type": "code",
      "metadata": {
        "id": "qrGd-c457wep"
      },
      "source": [
        "sub = pd.DataFrame(data=['label' , 'encode'])"
      ],
      "execution_count": 51,
      "outputs": []
    },
    {
      "cell_type": "code",
      "metadata": {
        "id": "Rw5n3Aky8D4P",
        "outputId": "09ef8147-9cfc-41dd-9eeb-2a0211359896",
        "colab": {
          "base_uri": "https://localhost:8080/"
        }
      },
      "source": [
        "sub.shape"
      ],
      "execution_count": 57,
      "outputs": [
        {
          "output_type": "execute_result",
          "data": {
            "text/plain": [
              "(2, 1)"
            ]
          },
          "metadata": {
            "tags": []
          },
          "execution_count": 57
        }
      ]
    },
    {
      "cell_type": "code",
      "metadata": {
        "id": "6l0pnY1O8Faf"
      },
      "source": [
        ""
      ],
      "execution_count": null,
      "outputs": []
    }
  ]
}