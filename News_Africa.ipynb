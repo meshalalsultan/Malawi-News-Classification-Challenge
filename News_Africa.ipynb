{
  "nbformat": 4,
  "nbformat_minor": 0,
  "metadata": {
    "colab": {
      "name": "News Africa.ipynb",
      "provenance": []
    },
    "kernelspec": {
      "name": "python3",
      "display_name": "Python 3"
    },
    "language_info": {
      "name": "python"
    },
    "accelerator": "GPU"
  },
  "cells": [
    {
      "cell_type": "code",
      "metadata": {
        "id": "_qMNmThAOTxv"
      },
      "source": [
        "import pandas as pd\n",
        "import keras\n",
        "import numpy as np\n",
        "import tensorflow as tf\n",
        "import matplotlib.pyplot as plt\n",
        "from sklearn.model_selection import train_test_split\n",
        "import re\n",
        "from keras.models import  load_model\n",
        "#from keras.layers import LSTM , Dense , Embedding , Dropout\n",
        "from tensorflow.keras.preprocessing.text import Tokenizer\n",
        "from tensorflow.keras.preprocessing.sequence import pad_sequences\n",
        "from tensorflow.keras.layers import Conv2D, Flatten, Dense , LSTM ,Embedding , Dropout,SpatialDropout1D\n",
        "from tensorflow.keras import Sequential \n",
        "from tensorflow.keras import layers\n",
        "from tensorflow.keras.callbacks import EarlyStopping"
      ],
      "execution_count": 1,
      "outputs": []
    },
    {
      "cell_type": "code",
      "metadata": {
        "id": "WIHGDFfYOmM0"
      },
      "source": [
        "df = pd.read_csv('Train.csv')"
      ],
      "execution_count": 2,
      "outputs": []
    },
    {
      "cell_type": "code",
      "metadata": {
        "colab": {
          "base_uri": "https://localhost:8080/",
          "height": 204
        },
        "id": "GyPZ4lcBOtU0",
        "outputId": "d7ede302-a142-4307-c686-bec66e93ef6f"
      },
      "source": [
        "df.head()"
      ],
      "execution_count": 3,
      "outputs": [
        {
          "output_type": "execute_result",
          "data": {
            "text/html": [
              "<div>\n",
              "<style scoped>\n",
              "    .dataframe tbody tr th:only-of-type {\n",
              "        vertical-align: middle;\n",
              "    }\n",
              "\n",
              "    .dataframe tbody tr th {\n",
              "        vertical-align: top;\n",
              "    }\n",
              "\n",
              "    .dataframe thead th {\n",
              "        text-align: right;\n",
              "    }\n",
              "</style>\n",
              "<table border=\"1\" class=\"dataframe\">\n",
              "  <thead>\n",
              "    <tr style=\"text-align: right;\">\n",
              "      <th></th>\n",
              "      <th>ID</th>\n",
              "      <th>Text</th>\n",
              "      <th>Label</th>\n",
              "    </tr>\n",
              "  </thead>\n",
              "  <tbody>\n",
              "    <tr>\n",
              "      <th>0</th>\n",
              "      <td>ID_AASHwXxg</td>\n",
              "      <td>Mwangonde: Khansala wachinyamata Akamati achi...</td>\n",
              "      <td>POLITICS</td>\n",
              "    </tr>\n",
              "    <tr>\n",
              "      <th>1</th>\n",
              "      <td>ID_AGoFySzn</td>\n",
              "      <td>MCP siidakhutire ndi kalembera Chipani cha Ma...</td>\n",
              "      <td>POLITICS</td>\n",
              "    </tr>\n",
              "    <tr>\n",
              "      <th>2</th>\n",
              "      <td>ID_AGrrkBGP</td>\n",
              "      <td>Bungwe la MANEPO Lapempha Boma Liganizire Anth...</td>\n",
              "      <td>HEALTH</td>\n",
              "    </tr>\n",
              "    <tr>\n",
              "      <th>3</th>\n",
              "      <td>ID_AIJeigeG</td>\n",
              "      <td>Ndale zogawanitsa miyambo zanyanya Si zachile...</td>\n",
              "      <td>POLITICS</td>\n",
              "    </tr>\n",
              "    <tr>\n",
              "      <th>4</th>\n",
              "      <td>ID_APMprMbV</td>\n",
              "      <td>Nanga wapolisi ataphofomoka? Masiku ano sichi...</td>\n",
              "      <td>LAW/ORDER</td>\n",
              "    </tr>\n",
              "  </tbody>\n",
              "</table>\n",
              "</div>"
            ],
            "text/plain": [
              "            ID                                               Text      Label\n",
              "0  ID_AASHwXxg   Mwangonde: Khansala wachinyamata Akamati achi...   POLITICS\n",
              "1  ID_AGoFySzn   MCP siidakhutire ndi kalembera Chipani cha Ma...   POLITICS\n",
              "2  ID_AGrrkBGP  Bungwe la MANEPO Lapempha Boma Liganizire Anth...     HEALTH\n",
              "3  ID_AIJeigeG   Ndale zogawanitsa miyambo zanyanya Si zachile...   POLITICS\n",
              "4  ID_APMprMbV   Nanga wapolisi ataphofomoka? Masiku ano sichi...  LAW/ORDER"
            ]
          },
          "metadata": {
            "tags": []
          },
          "execution_count": 3
        }
      ]
    },
    {
      "cell_type": "code",
      "metadata": {
        "colab": {
          "base_uri": "https://localhost:8080/"
        },
        "id": "EsoTMoJ1OwlC",
        "outputId": "68e2b7f6-8867-4364-f9a1-9694d0f24a95"
      },
      "source": [
        "df.isna().sum()"
      ],
      "execution_count": 4,
      "outputs": [
        {
          "output_type": "execute_result",
          "data": {
            "text/plain": [
              "ID       0\n",
              "Text     0\n",
              "Label    0\n",
              "dtype: int64"
            ]
          },
          "metadata": {
            "tags": []
          },
          "execution_count": 4
        }
      ]
    },
    {
      "cell_type": "code",
      "metadata": {
        "colab": {
          "base_uri": "https://localhost:8080/"
        },
        "id": "hhEy4KnfO0sZ",
        "outputId": "240868eb-04ad-42dc-d98d-d3fb8bdc03f8"
      },
      "source": [
        "df['Text'].str.len()"
      ],
      "execution_count": 5,
      "outputs": [
        {
          "output_type": "execute_result",
          "data": {
            "text/plain": [
              "0       2627\n",
              "1       2720\n",
              "2        940\n",
              "3       3575\n",
              "4        372\n",
              "        ... \n",
              "1431    1326\n",
              "1432    3949\n",
              "1433    1616\n",
              "1434    2632\n",
              "1435    4585\n",
              "Name: Text, Length: 1436, dtype: int64"
            ]
          },
          "metadata": {
            "tags": []
          },
          "execution_count": 5
        }
      ]
    },
    {
      "cell_type": "code",
      "metadata": {
        "colab": {
          "base_uri": "https://localhost:8080/",
          "height": 282
        },
        "id": "wOtQ1dz1O4tp",
        "outputId": "9b5c640b-5bb3-4c71-b5be-ddc8c21c548c"
      },
      "source": [
        "df['Text'].str.len().plot(kind='hist')"
      ],
      "execution_count": 6,
      "outputs": [
        {
          "output_type": "execute_result",
          "data": {
            "text/plain": [
              "<matplotlib.axes._subplots.AxesSubplot at 0x7f4563c93d10>"
            ]
          },
          "metadata": {
            "tags": []
          },
          "execution_count": 6
        },
        {
          "output_type": "display_data",
          "data": {
            "image/png": "[encoded data removed]",
            "text/plain": [
              "<Figure size 432x288 with 1 Axes>"
            ]
          },
          "metadata": {
            "tags": [],
            "needs_background": "light"
          }
        }
      ]
    },
    {
      "cell_type": "code",
      "metadata": {
        "colab": {
          "base_uri": "https://localhost:8080/"
        },
        "id": "lfZGq_amO83J",
        "outputId": "5cf0133e-6b62-40b2-c436-21e2efb0ee21"
      },
      "source": [
        "df['Label'].value_counts()"
      ],
      "execution_count": 7,
      "outputs": [
        {
          "output_type": "execute_result",
          "data": {
            "text/plain": [
              "POLITICS                279\n",
              "SOCIAL                  152\n",
              "RELIGION                147\n",
              "LAW/ORDER               136\n",
              "SOCIAL ISSUES           134\n",
              "HEALTH                  127\n",
              "ECONOMY                  86\n",
              "FARMING                  78\n",
              "SPORTS                   49\n",
              "EDUCATION                43\n",
              "RELATIONSHIPS            39\n",
              "WILDLIFE/ENVIRONMENT     36\n",
              "OPINION/ESSAY            26\n",
              "LOCALCHIEFS              25\n",
              "CULTURE                  23\n",
              "WITCHCRAFT               16\n",
              "MUSIC                    15\n",
              "TRANSPORT                11\n",
              "FLOODING                  7\n",
              "ARTS AND CRAFTS           7\n",
              "Name: Label, dtype: int64"
            ]
          },
          "metadata": {
            "tags": []
          },
          "execution_count": 7
        }
      ]
    },
    {
      "cell_type": "code",
      "metadata": {
        "colab": {
          "base_uri": "https://localhost:8080/",
          "height": 396
        },
        "id": "kkR4c9H6PBaZ",
        "outputId": "db846f6d-b2f9-47e7-e356-bc310899ab8b"
      },
      "source": [
        "df['Label'].value_counts().plot(kind='bar')"
      ],
      "execution_count": 8,
      "outputs": [
        {
          "output_type": "execute_result",
          "data": {
            "text/plain": [
              "<matplotlib.axes._subplots.AxesSubplot at 0x7f456392a690>"
            ]
          },
          "metadata": {
            "tags": []
          },
          "execution_count": 8
        },
        {
          "output_type": "display_data",
          "data": {
            "image/png": "[encoded data removed]",
            "text/plain": [
              "<Figure size 432x288 with 1 Axes>"
            ]
          },
          "metadata": {
            "tags": [],
            "needs_background": "light"
          }
        }
      ]
    },
    {
      "cell_type": "code",
      "metadata": {
        "id": "nSXnQUTsSCcW"
      },
      "source": [
        "MAX_SEQUENCE_LENGTH = 4000\n",
        "MAX_NB_WORDS = 5000"
      ],
      "execution_count": null,
      "outputs": []
    },
    {
      "cell_type": "code",
      "metadata": {
        "id": "xFFsJEUAPEso"
      },
      "source": [
        "tokenizer = Tokenizer(num_words=MAX_NB_WORDS , split=\" \")\n",
        "tokenizer.fit_on_texts(df['Text'].values)"
      ],
      "execution_count": 9,
      "outputs": []
    },
    {
      "cell_type": "code",
      "metadata": {
        "colab": {
          "base_uri": "https://localhost:8080/"
        },
        "id": "3BJraPYTPI-U",
        "outputId": "475ff339-781e-4567-a33a-f3782c6e8d85"
      },
      "source": [
        "X = tokenizer.texts_to_sequences(df['Text'].values)\n",
        "X= pad_sequences(X ,maxlen=MAX_SEQUENCE_LENGTH)\n",
        "X[:7]"
      ],
      "execution_count": 10,
      "outputs": [
        {
          "output_type": "execute_result",
          "data": {
            "text/plain": [
              "array([[  0,   0,   0, ...,  16,  68, 110],\n",
              "       [  0,   0,   0, ..., 511,  59,  93],\n",
              "       [  0,   0,   0, ...,   8,  16, 163],\n",
              "       ...,\n",
              "       [  0,   0,   0, ..., 198, 909, 412],\n",
              "       [  0,   0,   0, ..., 394,   5, 877],\n",
              "       [  0,   0,   0, ...,  27,  43,  14]], dtype=int32)"
            ]
          },
          "metadata": {
            "tags": []
          },
          "execution_count": 10
        }
      ]
    },
    {
      "cell_type": "code",
      "metadata": {
        "colab": {
          "base_uri": "https://localhost:8080/"
        },
        "id": "vUflxol3PLlb",
        "outputId": "6d568bb9-da14-4185-f5d0-8c3e43f3eecd"
      },
      "source": [
        "model = Sequential()\n",
        "model.add(Embedding(5000,265, input_length = X.shape[1]))\n",
        "model.add(SpatialDropout1D(0.2))\n",
        "model.add(LSTM(100, dropout=0.2, recurrent_dropout=0.2))\n",
        "model.add(Dense(20, activation='softmax'))\n",
        "model.compile(loss='categorical_crossentropy', optimizer='adam', metrics=['accuracy'])\n",
        "\n",
        "\n",
        "#model.compile(loss='categorical_crossentropy' , optimizer='adam' , metrics=['accuracy'])\n",
        "model.summary()"
      ],
      "execution_count": 11,
      "outputs": [
        {
          "output_type": "stream",
          "text": [
            "WARNING:tensorflow:Layer lstm will not use cuDNN kernel since it doesn't meet the cuDNN kernel criteria. It will use generic GPU kernel as fallback when running on GPU\n",
            "Model: \"sequential\"\n",
            "_________________________________________________________________\n",
            "Layer (type)                 Output Shape              Param #   \n",
            "=================================================================\n",
            "embedding (Embedding)        (None, 774, 265)          1325000   \n",
            "_________________________________________________________________\n",
            "spatial_dropout1d (SpatialDr (None, 774, 265)          0         \n",
            "_________________________________________________________________\n",
            "lstm (LSTM)                  (None, 100)               146400    \n",
            "_________________________________________________________________\n",
            "dense (Dense)                (None, 20)                2020      \n",
            "=================================================================\n",
            "Total params: 1,473,420\n",
            "Trainable params: 1,473,420\n",
            "Non-trainable params: 0\n",
            "_________________________________________________________________\n"
          ],
          "name": "stdout"
        }
      ]
    },
    {
      "cell_type": "code",
      "metadata": {
        "colab": {
          "base_uri": "https://localhost:8080/"
        },
        "id": "ZySmaxo7POwT",
        "outputId": "cbf14391-9dfb-4e8d-dc9c-9489b0afdc2b"
      },
      "source": [
        "y = pd.get_dummies(df['Label']).values\n",
        "[print(df['Label'][i] , y[i]) for i in range (0,40)]\n",
        "print('Shape of label tensor:', y.shape)"
      ],
      "execution_count": 12,
      "outputs": [
        {
          "output_type": "stream",
          "text": [
            "POLITICS [0 0 0 0 0 0 0 0 0 0 0 1 0 0 0 0 0 0 0 0]\n",
            "POLITICS [0 0 0 0 0 0 0 0 0 0 0 1 0 0 0 0 0 0 0 0]\n",
            "HEALTH [0 0 0 0 0 0 1 0 0 0 0 0 0 0 0 0 0 0 0 0]\n",
            "POLITICS [0 0 0 0 0 0 0 0 0 0 0 1 0 0 0 0 0 0 0 0]\n",
            "LAW/ORDER [0 0 0 0 0 0 0 1 0 0 0 0 0 0 0 0 0 0 0 0]\n",
            "LAW/ORDER [0 0 0 0 0 0 0 1 0 0 0 0 0 0 0 0 0 0 0 0]\n",
            "RELIGION [0 0 0 0 0 0 0 0 0 0 0 0 0 1 0 0 0 0 0 0]\n",
            "LAW/ORDER [0 0 0 0 0 0 0 1 0 0 0 0 0 0 0 0 0 0 0 0]\n",
            "FARMING [0 0 0 0 1 0 0 0 0 0 0 0 0 0 0 0 0 0 0 0]\n",
            "WILDLIFE/ENVIRONMENT [0 0 0 0 0 0 0 0 0 0 0 0 0 0 0 0 0 0 1 0]\n",
            "POLITICS [0 0 0 0 0 0 0 0 0 0 0 1 0 0 0 0 0 0 0 0]\n",
            "FARMING [0 0 0 0 1 0 0 0 0 0 0 0 0 0 0 0 0 0 0 0]\n",
            "RELIGION [0 0 0 0 0 0 0 0 0 0 0 0 0 1 0 0 0 0 0 0]\n",
            "WILDLIFE/ENVIRONMENT [0 0 0 0 0 0 0 0 0 0 0 0 0 0 0 0 0 0 1 0]\n",
            "SOCIAL ISSUES [0 0 0 0 0 0 0 0 0 0 0 0 0 0 0 1 0 0 0 0]\n",
            "LAW/ORDER [0 0 0 0 0 0 0 1 0 0 0 0 0 0 0 0 0 0 0 0]\n",
            "LAW/ORDER [0 0 0 0 0 0 0 1 0 0 0 0 0 0 0 0 0 0 0 0]\n",
            "FARMING [0 0 0 0 1 0 0 0 0 0 0 0 0 0 0 0 0 0 0 0]\n",
            "SOCIAL ISSUES [0 0 0 0 0 0 0 0 0 0 0 0 0 0 0 1 0 0 0 0]\n",
            "LAW/ORDER [0 0 0 0 0 0 0 1 0 0 0 0 0 0 0 0 0 0 0 0]\n",
            "POLITICS [0 0 0 0 0 0 0 0 0 0 0 1 0 0 0 0 0 0 0 0]\n",
            "POLITICS [0 0 0 0 0 0 0 0 0 0 0 1 0 0 0 0 0 0 0 0]\n",
            "POLITICS [0 0 0 0 0 0 0 0 0 0 0 1 0 0 0 0 0 0 0 0]\n",
            "RELIGION [0 0 0 0 0 0 0 0 0 0 0 0 0 1 0 0 0 0 0 0]\n",
            "SOCIAL ISSUES [0 0 0 0 0 0 0 0 0 0 0 0 0 0 0 1 0 0 0 0]\n",
            "RELIGION [0 0 0 0 0 0 0 0 0 0 0 0 0 1 0 0 0 0 0 0]\n",
            "SOCIAL [0 0 0 0 0 0 0 0 0 0 0 0 0 0 1 0 0 0 0 0]\n",
            "SOCIAL [0 0 0 0 0 0 0 0 0 0 0 0 0 0 1 0 0 0 0 0]\n",
            "RELIGION [0 0 0 0 0 0 0 0 0 0 0 0 0 1 0 0 0 0 0 0]\n",
            "POLITICS [0 0 0 0 0 0 0 0 0 0 0 1 0 0 0 0 0 0 0 0]\n",
            "SOCIAL ISSUES [0 0 0 0 0 0 0 0 0 0 0 0 0 0 0 1 0 0 0 0]\n",
            "HEALTH [0 0 0 0 0 0 1 0 0 0 0 0 0 0 0 0 0 0 0 0]\n",
            "SOCIAL [0 0 0 0 0 0 0 0 0 0 0 0 0 0 1 0 0 0 0 0]\n",
            "POLITICS [0 0 0 0 0 0 0 0 0 0 0 1 0 0 0 0 0 0 0 0]\n",
            "SOCIAL [0 0 0 0 0 0 0 0 0 0 0 0 0 0 1 0 0 0 0 0]\n",
            "OPINION/ESSAY [0 0 0 0 0 0 0 0 0 0 1 0 0 0 0 0 0 0 0 0]\n",
            "POLITICS [0 0 0 0 0 0 0 0 0 0 0 1 0 0 0 0 0 0 0 0]\n",
            "POLITICS [0 0 0 0 0 0 0 0 0 0 0 1 0 0 0 0 0 0 0 0]\n",
            "POLITICS [0 0 0 0 0 0 0 0 0 0 0 1 0 0 0 0 0 0 0 0]\n",
            "POLITICS [0 0 0 0 0 0 0 0 0 0 0 1 0 0 0 0 0 0 0 0]\n",
            "Shape of label tensor: (1436, 20)\n"
          ],
          "name": "stdout"
        }
      ]
    },
    {
      "cell_type": "code",
      "metadata": {
        "colab": {
          "base_uri": "https://localhost:8080/"
        },
        "id": "uFGHhqAFPTXr",
        "outputId": "fd0d5156-7c77-4603-85b3-46f55398c538"
      },
      "source": [
        "X_train , X_test , y_train , y_test = train_test_split(X,y, test_size=0.3 , random_state=0)\n",
        "print(X_train.shape,y_train.shape)\n",
        "print(X_test.shape,y_test.shape)"
      ],
      "execution_count": 13,
      "outputs": [
        {
          "output_type": "stream",
          "text": [
            "(1005, 774) (1005, 20)\n",
            "(431, 774) (431, 20)\n"
          ],
          "name": "stdout"
        }
      ]
    },
    {
      "cell_type": "code",
      "metadata": {
        "colab": {
          "base_uri": "https://localhost:8080/"
        },
        "id": "m3RROOyOPhVx",
        "outputId": "24bd110f-ec7a-4731-8e10-ff548b185a05"
      },
      "source": [
        "batch_size = 32\n",
        "epochs = 10\n",
        "model.fit(X_train , y_train , epochs = epochs , batch_size = batch_size , verbose = 2)"
      ],
      "execution_count": 14,
      "outputs": [
        {
          "output_type": "stream",
          "text": [
            "Epoch 1/10\n",
            "32/32 - 119s - loss: 2.7691 - accuracy: 0.1881\n",
            "Epoch 2/10\n",
            "32/32 - 114s - loss: 2.5319 - accuracy: 0.2020\n",
            "Epoch 3/10\n",
            "32/32 - 114s - loss: 2.2586 - accuracy: 0.3055\n",
            "Epoch 4/10\n",
            "32/32 - 114s - loss: 1.8057 - accuracy: 0.4239\n",
            "Epoch 5/10\n",
            "32/32 - 114s - loss: 1.4389 - accuracy: 0.5811\n",
            "Epoch 6/10\n",
            "32/32 - 113s - loss: 1.0619 - accuracy: 0.6896\n",
            "Epoch 7/10\n",
            "32/32 - 115s - loss: 0.8488 - accuracy: 0.7701\n",
            "Epoch 8/10\n",
            "32/32 - 116s - loss: 0.5643 - accuracy: 0.8557\n",
            "Epoch 9/10\n",
            "32/32 - 115s - loss: 0.3832 - accuracy: 0.9104\n",
            "Epoch 10/10\n",
            "32/32 - 114s - loss: 0.2842 - accuracy: 0.9423\n"
          ],
          "name": "stdout"
        },
        {
          "output_type": "execute_result",
          "data": {
            "text/plain": [
              "<tensorflow.python.keras.callbacks.History at 0x7f4562b74550>"
            ]
          },
          "metadata": {
            "tags": []
          },
          "execution_count": 14
        }
      ]
    },
    {
      "cell_type": "code",
      "metadata": {
        "colab": {
          "base_uri": "https://localhost:8080/"
        },
        "id": "R-FTif09PmXI",
        "outputId": "130c6a2d-ea59-4918-d792-5985330b3dca"
      },
      "source": [
        "accr = model.evaluate(X_test,y_test)\n",
        "print('Test set\\n  Loss: {:0.3f}\\n  Accuracy: {:0.3f}'.format(accr[0],accr[1]))"
      ],
      "execution_count": 15,
      "outputs": [
        {
          "output_type": "stream",
          "text": [
            "14/14 [==============================] - 5s 318ms/step - loss: 2.8983 - accuracy: 0.3550\n",
            "Test set\n",
            "  Loss: 2.898\n",
            "  Accuracy: 0.355\n"
          ],
          "name": "stdout"
        }
      ]
    },
    {
      "cell_type": "code",
      "metadata": {
        "colab": {
          "base_uri": "https://localhost:8080/",
          "height": 496
        },
        "id": "3HBhLN0pPphw",
        "outputId": "9af171e5-983f-4dd6-b302-833142e0da42"
      },
      "source": [
        "plt.title('Loss')\n",
        "plt.plot(model.history['loss'], label='train')\n",
        "plt.plot(model.history['val_loss'], label='test')\n",
        "plt.legend()\n",
        "plt.show();"
      ],
      "execution_count": 16,
      "outputs": [
        {
          "output_type": "error",
          "ename": "NameError",
          "evalue": "ignored",
          "traceback": [
            "\u001b[0;31m---------------------------------------------------------------------------\u001b[0m",
            "\u001b[0;31mNameError\u001b[0m                                 Traceback (most recent call last)",
            "\u001b[0;32m<ipython-input-16-32b70eeedc19>\u001b[0m in \u001b[0;36m<module>\u001b[0;34m()\u001b[0m\n\u001b[1;32m      1\u001b[0m \u001b[0mplt\u001b[0m\u001b[0;34m.\u001b[0m\u001b[0mtitle\u001b[0m\u001b[0;34m(\u001b[0m\u001b[0;34m'Loss'\u001b[0m\u001b[0;34m)\u001b[0m\u001b[0;34m\u001b[0m\u001b[0;34m\u001b[0m\u001b[0m\n\u001b[0;32m----> 2\u001b[0;31m \u001b[0mplt\u001b[0m\u001b[0;34m.\u001b[0m\u001b[0mplot\u001b[0m\u001b[0;34m(\u001b[0m\u001b[0mhistory\u001b[0m\u001b[0;34m.\u001b[0m\u001b[0mhistory\u001b[0m\u001b[0;34m[\u001b[0m\u001b[0;34m'loss'\u001b[0m\u001b[0;34m]\u001b[0m\u001b[0;34m,\u001b[0m \u001b[0mlabel\u001b[0m\u001b[0;34m=\u001b[0m\u001b[0;34m'train'\u001b[0m\u001b[0;34m)\u001b[0m\u001b[0;34m\u001b[0m\u001b[0;34m\u001b[0m\u001b[0m\n\u001b[0m\u001b[1;32m      3\u001b[0m \u001b[0mplt\u001b[0m\u001b[0;34m.\u001b[0m\u001b[0mplot\u001b[0m\u001b[0;34m(\u001b[0m\u001b[0mhistory\u001b[0m\u001b[0;34m.\u001b[0m\u001b[0mhistory\u001b[0m\u001b[0;34m[\u001b[0m\u001b[0;34m'val_loss'\u001b[0m\u001b[0;34m]\u001b[0m\u001b[0;34m,\u001b[0m \u001b[0mlabel\u001b[0m\u001b[0;34m=\u001b[0m\u001b[0;34m'test'\u001b[0m\u001b[0;34m)\u001b[0m\u001b[0;34m\u001b[0m\u001b[0;34m\u001b[0m\u001b[0m\n\u001b[1;32m      4\u001b[0m \u001b[0mplt\u001b[0m\u001b[0;34m.\u001b[0m\u001b[0mlegend\u001b[0m\u001b[0;34m(\u001b[0m\u001b[0;34m)\u001b[0m\u001b[0;34m\u001b[0m\u001b[0;34m\u001b[0m\u001b[0m\n\u001b[1;32m      5\u001b[0m \u001b[0mplt\u001b[0m\u001b[0;34m.\u001b[0m\u001b[0mshow\u001b[0m\u001b[0;34m(\u001b[0m\u001b[0;34m)\u001b[0m\u001b[0;34m;\u001b[0m\u001b[0;34m\u001b[0m\u001b[0;34m\u001b[0m\u001b[0m\n",
            "\u001b[0;31mNameError\u001b[0m: name 'history' is not defined"
          ]
        },
        {
          "output_type": "display_data",
          "data": {
            "image/png": "[encoded data removed]",
            "text/plain": [
              "<Figure size 432x288 with 1 Axes>"
            ]
          },
          "metadata": {
            "tags": [],
            "needs_background": "light"
          }
        }
      ]
    },
    {
      "cell_type": "code",
      "metadata": {
        "id": "ahaSiIfIPwFJ"
      },
      "source": [
        "plt.title('Accuracy')\n",
        "plt.plot(history.history['acc'], label='train')\n",
        "plt.plot(history.history['val_acc'], label='test')\n",
        "plt.legend()\n",
        "plt.show();"
      ],
      "execution_count": null,
      "outputs": []
    },
    {
      "cell_type": "code",
      "metadata": {
        "colab": {
          "base_uri": "https://localhost:8080/",
          "height": 204
        },
        "id": "Vyz1dUSLP2ll",
        "outputId": "145d848d-20aa-4797-f2ed-0d128d2344d5"
      },
      "source": [
        "test_df = pd.read_csv('Test.csv')\n",
        "test_df.head()"
      ],
      "execution_count": 17,
      "outputs": [
        {
          "output_type": "execute_result",
          "data": {
            "text/html": [
              "<div>\n",
              "<style scoped>\n",
              "    .dataframe tbody tr th:only-of-type {\n",
              "        vertical-align: middle;\n",
              "    }\n",
              "\n",
              "    .dataframe tbody tr th {\n",
              "        vertical-align: top;\n",
              "    }\n",
              "\n",
              "    .dataframe thead th {\n",
              "        text-align: right;\n",
              "    }\n",
              "</style>\n",
              "<table border=\"1\" class=\"dataframe\">\n",
              "  <thead>\n",
              "    <tr style=\"text-align: right;\">\n",
              "      <th></th>\n",
              "      <th>ID</th>\n",
              "      <th>Text</th>\n",
              "    </tr>\n",
              "  </thead>\n",
              "  <tbody>\n",
              "    <tr>\n",
              "      <th>0</th>\n",
              "      <td>ID_ADHEtjTi</td>\n",
              "      <td>Abambo odzikhweza akuchuluka Kafukufuku wa ap...</td>\n",
              "    </tr>\n",
              "    <tr>\n",
              "      <th>1</th>\n",
              "      <td>ID_AHfJktdQ</td>\n",
              "      <td>Ambuye Ziyaye Ayamikira Aphunzitsi a Tilitonse...</td>\n",
              "    </tr>\n",
              "    <tr>\n",
              "      <th>2</th>\n",
              "      <td>ID_AUJIHpZr</td>\n",
              "      <td>Anatcheleza: Akundiopseza a gogo wanga Akundi...</td>\n",
              "    </tr>\n",
              "    <tr>\n",
              "      <th>3</th>\n",
              "      <td>ID_AUKYBbIM</td>\n",
              "      <td>Ulova wafika posauzana Adatenga digiri ya uph...</td>\n",
              "    </tr>\n",
              "    <tr>\n",
              "      <th>4</th>\n",
              "      <td>ID_AZnsVPEi</td>\n",
              "      <td>Dzombe kukoma, koma Kuyambira makedzana, pant...</td>\n",
              "    </tr>\n",
              "  </tbody>\n",
              "</table>\n",
              "</div>"
            ],
            "text/plain": [
              "            ID                                               Text\n",
              "0  ID_ADHEtjTi   Abambo odzikhweza akuchuluka Kafukufuku wa ap...\n",
              "1  ID_AHfJktdQ  Ambuye Ziyaye Ayamikira Aphunzitsi a Tilitonse...\n",
              "2  ID_AUJIHpZr   Anatcheleza: Akundiopseza a gogo wanga Akundi...\n",
              "3  ID_AUKYBbIM   Ulova wafika posauzana Adatenga digiri ya uph...\n",
              "4  ID_AZnsVPEi   Dzombe kukoma, koma Kuyambira makedzana, pant..."
            ]
          },
          "metadata": {
            "tags": []
          },
          "execution_count": 17
        }
      ]
    },
    {
      "cell_type": "code",
      "metadata": {
        "colab": {
          "base_uri": "https://localhost:8080/",
          "height": 188
        },
        "id": "Y_r7dAq_UlyE",
        "outputId": "d86eb33d-91ef-4c79-8666-f0294657529e"
      },
      "source": [
        "test_df['Text'][12]"
      ],
      "execution_count": 21,
      "outputs": [
        {
          "output_type": "execute_result",
          "data": {
            "application/vnd.google.colaboratory.intrinsic+json": {
              "type": "string"
            },
            "text/plain": [
              "'Bungwe la Senior Citizen Lipempha Anthu Athandize Okalamba Bungwe lolimbikitsa kufunika kokumbukira anthu achikulire ku parish ya Limbe Cathedral mu arkdayosizi ya Blantyre la Senior Citizen lati ndi udindo wa mzika iliyonse kuthandiza anthu achikulire mdziko muno Bungweli lanena izi ku Limbe cathedral mu mzinda wa Blantyre pambuyo ya phwando lomwe bungweli linakonzela anthu okalamba aparishiyi Lachitatu pa 1 January 2020. \\nBambo Benito Masuwa omwe anatsogolera wa nsembe ya ukalistiya yothokoza Mulungu chifukwa cha moyo wa anthu achikulire opezeka mparishiyi, anayamikira achikulirewa pozisunga komanso kudzilesa ku zokhumba za moyo zomwe mwazina zawasunga ndi moyo mpaka lero. \\nEna mwa mamembala a bungwe la Senior Citizen pa tsikulo la phwandolo Munthu amene wakhala moyo wautali amasonyeza kuti wadutsa ndikupambana mzambiri zokoma za moyo uno, anatero bambo Masuwa. \\nBambo Masuwa anapitiliza kupempha achinyamata kuti atengerepo phunziro kuchokela kwa anthu achikulirewa posatengeka ndi zokoma za dziko lapansi. \\nIwo anapitiliza kupempha achikulirewa kuti azikonzekeretse ku imfa pozilumikizitsa moyo wawo ndi Yesu Khristu. \\nImfa sichinthu choopsa ngati munthu walumikizitsa moyo wake ndi Yesu Khristu, anawonjedzera motero bambo Masuwa. \\nMmawu ake wapampando wa bungweli a Macdonald Phoya anati bungweli linakonza phwandoli pofuna kusangalala limodzi ndi achikulirewa munyengo ino yachisangalalo chakubadwa kwa Yesu Khristu komanso chaka chatsopano. \\nAphoya anawonjedzera kunena kuti achikulirewa ndi amene akuziwa mozama chiyambi cha ma parishiwa choncho mkofunika kuwakumbukira mwa njira yapadera. \\nAnthu okalambawa nawonso akuyenela kukondwelera chisangalalochi choncho ndibwino kukhala nawo limodzi, anatero a Phoya. \\nPolankhulapo mmodzi mwa anthu achikulire omwe anatenga nawo gawo pa zochitikazi, a Richard Chingamba anathokoza Mulungu kamba ka mphatso ya moyo komanso bungwe la Senior Citizen kamba kowakonzera phwandoli. \\nNdikuthokoza Mulungu pondisunga mpaka tsiku lalero komanso achinyamata omwe anakonza chikonzelochi, anatero a Chingamba. \\nBungwe la Senior Citizen lomwe likupezeka ku parishi ya Limbe Cathedral lati lili ndichikonzelo choti bungweli lifikire ma parishi onse opezeka mu arkdayosizi ya Blantyre. \\n'"
            ]
          },
          "metadata": {
            "tags": []
          },
          "execution_count": 21
        }
      ]
    },
    {
      "cell_type": "code",
      "metadata": {
        "colab": {
          "base_uri": "https://localhost:8080/"
        },
        "id": "JMxYdN3yVT25",
        "outputId": "5ac723dc-19cb-4a7a-b977-b9b0a5f3804b"
      },
      "source": [
        "test_df.shape"
      ],
      "execution_count": 25,
      "outputs": [
        {
          "output_type": "execute_result",
          "data": {
            "text/plain": [
              "(620, 2)"
            ]
          },
          "metadata": {
            "tags": []
          },
          "execution_count": 25
        }
      ]
    },
    {
      "cell_type": "code",
      "metadata": {
        "colab": {
          "base_uri": "https://localhost:8080/"
        },
        "id": "5mBX7PFoPxei",
        "outputId": "409c0bc3-7008-4f2a-d3d0-a35c67ff7365"
      },
      "source": [
        "MAX_SEQUENCE_LENGTH = 4000\n",
        "MAX_NB_WORDS = 5000\n",
        "new_complaint = ['Bungwe la Senior Citizen Lipempha Anthu Athandize Okalamba Bungwe lolimbikitsa kufunika kokumbukira anthu achikulire ku parish ya Limbe Cathedral mu arkdayosizi ya Blantyre la Senior Citizen lati ndi udindo wa mzika iliyonse kuthandiza anthu achikulire mdziko muno Bungweli lanena izi ku Limbe cathedral mu mzinda wa Blantyre pambuyo ya phwando lomwe bungweli linakonzela anthu okalamba aparishiyi Lachitatu pa 1 January 2020. \\nBambo Benito Masuwa omwe anatsogolera wa nsembe ya ukalistiya yothokoza Mulungu chifukwa cha moyo wa anthu achikulire opezeka mparishiyi, anayamikira achikulirewa pozisunga komanso kudzilesa ku zokhumba za moyo zomwe mwazina zawasunga ndi moyo mpaka lero. \\nEna mwa mamembala a bungwe la Senior Citizen pa tsikulo la phwandolo Munthu amene wakhala moyo wautali amasonyeza kuti wadutsa ndikupambana mzambiri zokoma za moyo uno, anatero bambo Masuwa']\n",
        "seq = tokenizer.texts_to_sequences(new_complaint)\n",
        "padded = pad_sequences(seq, maxlen=MAX_SEQUENCE_LENGTH)\n",
        "pred = model.predict(padded)\n",
        "labels = ['SOCIAL ISSUES', 'EDUCATION', 'RELATIONSHIPS', 'ECONOMY', 'RELIGION', 'POLITICS', 'LAW/ORDER', 'SOCIAL', 'HEALTH', 'ARTS AND CRAFTS', 'FARMING', 'CULTURE', 'FLOODING', 'WITCHCRAFT', 'MUSIC', 'TRANSPORT', 'WILDLIFE/ENVIRONMENT', 'LOCALCHIEFS', 'SPORTS', 'OPINION/ESSAY']\n",
        "print(pred, labels[np.argmax(pred)])"
      ],
      "execution_count": 23,
      "outputs": [
        {
          "output_type": "stream",
          "text": [
            "WARNING:tensorflow:Model was constructed with shape (None, 774) for input KerasTensor(type_spec=TensorSpec(shape=(None, 774), dtype=tf.float32, name='embedding_input'), name='embedding_input', description=\"created by layer 'embedding_input'\"), but it was called on an input with incompatible shape (None, 99).\n",
            "[[1.00857440e-04 3.29377363e-05 1.81584596e-03 5.57253021e-04\n",
            "  1.05615566e-03 1.17260846e-04 1.27906224e-03 2.03054845e-02\n",
            "  3.64107080e-04 2.44997238e-04 1.04343104e-04 2.41084509e-02\n",
            "  4.45877486e-05 3.14093381e-02 9.17111516e-01 4.08920489e-04\n",
            "  6.90364031e-05 4.91794955e-04 1.08222506e-04 2.69848271e-04]] MUSIC\n"
          ],
          "name": "stdout"
        }
      ]
    },
    {
      "cell_type": "code",
      "metadata": {
        "id": "AIL_ofRsUy7g"
      },
      "source": [
        ""
      ],
      "execution_count": null,
      "outputs": []
    }
  ]
}